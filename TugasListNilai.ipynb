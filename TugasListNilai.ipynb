{
 "cells": [
  {
   "cell_type": "markdown",
   "metadata": {},
   "source": [
    "# TUGAS LIST NILAI\n",
    "TAMPILKAN:\n",
    "ganjil,\n",
    "nilai > 70,\n",
    "standar deviasi,\n",
    "maksimum,\n",
    "minimum,\n",
    "modus"
   ]
  },
  {
   "cell_type": "code",
   "execution_count": 1,
   "metadata": {},
   "outputs": [
    {
     "name": "stdout",
     "output_type": "stream",
     "text": [
      "[88, 50, 33, 23, 4, 89, 2, 78, 45, 14, 16, 30, 44, 60, 50, 40, 82, 51, 34, 28, 35, 29, 37, 42, 38, 34, 50, 33, 77, 69, 74, 7, 37, 94, 98, 38, 62, 98, 12, 11, 87, 71, 73, 3, 93, 1, 12, 78, 75, 94, 57, 40, 68, 67, 69, 16, 36, 47, 32, 27, 7, 92, 70, 98, 67, 64, 84, 15, 45, 45, 73, 73, 59, 56, 53, 57, 6, 3, 95, 62, 93, 65, 96, 63, 62, 43, 23, 55, 63, 27, 8, 90, 75, 24, 42, 80, 30, 71, 67, 75, 2, 38, 12, 85, 7, 57, 13, 55, 86, 37, 59, 92, 45, 66, 25, 52, 62, 24, 77, 26, 60, 28, 39, 9, 63, 99, 28, 66, 73, 71, 21, 78, 76, 31, 17, 76, 82, 34, 51, 25, 50, 9, 47, 62, 58, 91, 86, 88, 44, 38, 34, 19, 32, 77, 74, 61, 4, 83, 56, 87, 68, 83, 33, 54, 89, 58, 53, 37, 87, 14, 83, 14, 47, 69, 43, 96, 6, 80, 20, 11, 60, 81, 72, 31, 92, 4, 19, 68, 86, 11, 72, 17, 71, 45, 40, 86, 32, 2, 69, 54, 87, 13, 9, 82, 20, 38, 13, 31, 33, 26, 89, 79, 33, 84, 7, 66, 17, 31, 40, 55, 11, 65, 43, 29, 18, 42, 23, 64, 20, 16, 93, 36, 58, 52, 2, 72, 73, 57, 94, 17, 7, 52, 83, 16, 11, 56, 94, 97, 48, 24]\n"
     ]
    }
   ],
   "source": [
    "import random\n",
    "\n",
    "#Generate Random\n",
    "nilaiTugas = []\n",
    "for i in range(250):\n",
    "    nilaiTugas.append(random.randrange(1,100,1))\n",
    "    \n",
    "print(nilaiTugas)"
   ]
  },
  {
   "cell_type": "code",
   "execution_count": 2,
   "metadata": {},
   "outputs": [
    {
     "name": "stdout",
     "output_type": "stream",
     "text": [
      "Angka Ganjil [33, 23, 89, 45, 51, 35, 29, 37, 33, 77, 69, 7, 37, 11, 87, 71, 73, 3, 93, 1, 75, 57, 67, 69, 47, 27, 7, 67, 15, 45, 45, 73, 73, 59, 53, 57, 3, 95, 93, 65, 63, 43, 23, 55, 63, 27, 75, 71, 67, 75, 85, 7, 57, 13, 55, 37, 59, 45, 25, 77, 39, 9, 63, 99, 73, 71, 21, 31, 17, 51, 25, 9, 47, 91, 19, 77, 61, 83, 87, 83, 33, 89, 53, 37, 87, 83, 47, 69, 43, 11, 81, 31, 19, 11, 17, 71, 45, 69, 87, 13, 9, 13, 31, 33, 89, 79, 33, 7, 17, 31, 55, 11, 65, 43, 29, 23, 93, 73, 57, 17, 7, 83, 11, 97]\n"
     ]
    }
   ],
   "source": [
    "#ganjil\n",
    "\n",
    "ganjil = []\n",
    "for n in nilaiTugas:\n",
    "    if n%2!=0:\n",
    "        ganjil.append(n)\n",
    "print(\"Angka Ganjil\", ganjil)"
   ]
  },
  {
   "cell_type": "code",
   "execution_count": 3,
   "metadata": {},
   "outputs": [
    {
     "name": "stdout",
     "output_type": "stream",
     "text": [
      "Nilai > 70 [88, 89, 78, 82, 77, 74, 94, 98, 98, 87, 71, 73, 93, 78, 75, 94, 92, 98, 84, 73, 73, 95, 93, 96, 90, 75, 80, 71, 75, 85, 86, 92, 77, 99, 73, 71, 78, 76, 76, 82, 91, 86, 88, 77, 74, 83, 87, 83, 89, 87, 83, 96, 80, 81, 72, 92, 86, 72, 71, 86, 87, 82, 89, 79, 84, 93, 72, 73, 94, 83, 94, 97]\n"
     ]
    }
   ],
   "source": [
    "#nilai > 70\n",
    "\n",
    "nilaiLebih70 = []\n",
    "for n in nilaiTugas:\n",
    "    if n>70:\n",
    "        nilaiLebih70.append(n)\n",
    "print(\"Nilai > 70\", nilaiLebih70) "
   ]
  },
  {
   "cell_type": "code",
   "execution_count": 6,
   "metadata": {},
   "outputs": [
    {
     "name": "stdout",
     "output_type": "stream",
     "text": [
      "Mean = 49.952\n",
      "Standar Deviasi = 27.809118726370112\n"
     ]
    }
   ],
   "source": [
    "#standar deviasi\n",
    "\n",
    "jumlah = 0\n",
    "for n in nilaiTugas:\n",
    "    jumlah = jumlah+n\n",
    "Mean = jumlah/len(nilaiTugas)\n",
    "print(\"Mean =\", Mean)\n",
    "\n",
    "sigma = 0\n",
    "for n in nilaiTugas:\n",
    "    sigma = sigma +((n-Mean)**2)\n",
    "stdv = (sigma/(len(nilaiTugas)-1))**0.5\n",
    "print(\"Standar Deviasi =\", stdv)"
   ]
  },
  {
   "cell_type": "code",
   "execution_count": 7,
   "metadata": {},
   "outputs": [
    {
     "name": "stdout",
     "output_type": "stream",
     "text": [
      "Maksimum = 99\n",
      "Minimum = 1\n"
     ]
    }
   ],
   "source": [
    "#Maksimum\n",
    "\n",
    "maksimum = 0\n",
    "for n in nilaiTugas:\n",
    "    if n>maksimum:\n",
    "        maksimum = n\n",
    "print(\"Maksimum =\", maksimum)\n",
    "\n",
    "#Minimum\n",
    "\n",
    "minimum = 0\n",
    "for n in nilaiTugas:\n",
    "    if n<maksimum:\n",
    "        maksimum = n\n",
    "print(\"Minimum =\", maksimum)"
   ]
  },
  {
   "cell_type": "code",
   "execution_count": 8,
   "metadata": {},
   "outputs": [
    {
     "name": "stdout",
     "output_type": "stream",
     "text": [
      "Modus = 88\n"
     ]
    }
   ],
   "source": [
    "#Modus\n",
    "\n",
    "modus = nilaiTugas[0]\n",
    "jumlah = nilaiTugas.count(modus)\n",
    "\n",
    "for n in nilaiTugas:\n",
    "    Jumlah = nilaiTugas.count(n)\n",
    "    if Jumlah > jumlah:\n",
    "        modus > n\n",
    "        jumlah=Jumlah\n",
    "print(\"Modus =\", modus)"
   ]
  },
  {
   "cell_type": "code",
   "execution_count": null,
   "metadata": {},
   "outputs": [],
   "source": []
  }
 ],
 "metadata": {
  "kernelspec": {
   "display_name": "Python 3",
   "language": "python",
   "name": "python3"
  },
  "language_info": {
   "codemirror_mode": {
    "name": "ipython",
    "version": 3
   },
   "file_extension": ".py",
   "mimetype": "text/x-python",
   "name": "python",
   "nbconvert_exporter": "python",
   "pygments_lexer": "ipython3",
   "version": "3.7.0"
  }
 },
 "nbformat": 4,
 "nbformat_minor": 2
}
