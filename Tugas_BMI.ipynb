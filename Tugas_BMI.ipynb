{
 "cells": [
  {
   "cell_type": "markdown",
   "metadata": {},
   "source": [
    "# Body Mass Index"
   ]
  },
  {
   "cell_type": "code",
   "execution_count": 1,
   "metadata": {},
   "outputs": [
    {
     "name": "stdout",
     "output_type": "stream",
     "text": [
      "25.79591836734694\n",
      "Overweight\n"
     ]
    }
   ],
   "source": [
    "BB = 79\n",
    "TB = 175\n",
    "BMI = BB/((TB/100)**2)\n",
    "\n",
    "print(BMI)\n",
    "if BMI<15:\n",
    "    print(\"Very Severely Underweight\")\n",
    "    \n",
    "if BMI>=15:\n",
    "    if BMI<16:\n",
    "        print(\"Severely Underweight\")\n",
    "        \n",
    "if BMI>=16:\n",
    "    if BMI<18.5:\n",
    "        print(\"Underweight\")\n",
    "\n",
    "if BMI>=18.5:\n",
    "    if BMI<25:\n",
    "        print(\"Normal (helthy weight)\")\n",
    "        \n",
    "if BMI>=25:\n",
    "    if BMI<30:\n",
    "        print(\"Overweight\")\n",
    "        \n",
    "if BMI>=30:\n",
    "    if BMI<35:\n",
    "        print(\"Moderately obese\")\n",
    "        \n",
    "if BMI>=35:\n",
    "    if BMI<40:\n",
    "        print(\"Severely obese\")\n",
    "        \n",
    "if BMI>=40:\n",
    "    print(\"Very severely obese\")"
   ]
  },
  {
   "cell_type": "code",
   "execution_count": null,
   "metadata": {},
   "outputs": [],
   "source": []
  }
 ],
 "metadata": {
  "kernelspec": {
   "display_name": "Python 3",
   "language": "python",
   "name": "python3"
  },
  "language_info": {
   "codemirror_mode": {
    "name": "ipython",
    "version": 3
   },
   "file_extension": ".py",
   "mimetype": "text/x-python",
   "name": "python",
   "nbconvert_exporter": "python",
   "pygments_lexer": "ipython3",
   "version": "3.7.0"
  }
 },
 "nbformat": 4,
 "nbformat_minor": 2
}
